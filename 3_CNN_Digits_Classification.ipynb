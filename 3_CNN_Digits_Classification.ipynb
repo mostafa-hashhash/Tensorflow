{
  "nbformat": 4,
  "nbformat_minor": 0,
  "metadata": {
    "colab": {
      "name": "Exercise 3 - Question.ipynb",
      "version": "0.3.2",
      "provenance": [],
      "collapsed_sections": []
    },
    "kernelspec": {
      "name": "python3",
      "display_name": "Python 3"
    }
  },
  "cells": [
    {
      "metadata": {
        "id": "iQjHqsmTAVLU",
        "colab_type": "text"
      },
      "cell_type": "markdown",
      "source": [
        "## Exercise 3\n",
        "In the videos you looked at how you would improve Fashion MNIST using Convolutions. For your exercise see if you can improve MNIST to 99.8% accuracy or more using only a single convolutional layer and a single MaxPooling 2D. You should stop training once the accuracy goes above this amount. It should happen in less than 20 epochs, so it's ok to hard code the number of epochs for training, but your training must end once it hits the above metric. If it doesn't, then you'll need to redesign your layers.\n",
        "\n",
        "I've started the code for you -- you need to finish it!\n",
        "\n",
        "When 99.8% accuracy has been hit, you should print out the string \"Reached 99.8% accuracy so cancelling training!\"\n"
      ]
    },
    {
      "metadata": {
        "id": "sfQRyaJWAIdg",
        "colab_type": "code",
        "colab": {
          "base_uri": "https://localhost:8080/",
          "height": 336
        },
        "outputId": "49dd88aa-0923-4c91-b7e8-1e9055c4a6fa"
      },
      "cell_type": "code",
      "source": [
        "import tensorflow as tf\n",
        "\n",
        "\n",
        "class Stop_Training(tf.keras.callbacks.Callback):\n",
        "  \n",
        "  def on_epoch_end(self, epoch, logs={}):\n",
        "    \n",
        "    if logs.get('acc') >= .998 :\n",
        "      \n",
        "      print(\" \\n Satisfiying Accuracy (99.8%) will stop The Training :) \\n\")\n",
        "      self.model.stop_training = True\n",
        "      \n",
        "\n",
        "mnist = tf.keras.datasets.mnist\n",
        "(training_images, training_labels), (test_images, test_labels) = mnist.load_data()\n",
        "\n",
        "\n",
        "training_images = training_images.reshape(60000,28,28,1)\n",
        "training_images = training_images/255\n",
        "test_images = test_images.reshape(10000,28,28,1)\n",
        "test_images = test_images/255\n",
        "\n",
        "\n",
        "model = tf.keras.models.Sequential([\n",
        "    \n",
        "    tf.keras.layers.Conv2D( 32, (3, 3), activation = 'relu', input_shape=(28, 28, 1)),\n",
        "    tf.keras.layers.MaxPooling2D( 2, 2 ),\n",
        "   \n",
        "    tf.keras.layers.Flatten(),\n",
        "    tf.keras.layers.Dense(256, activation = 'relu' ),\n",
        "    \n",
        "    tf.keras.layers.Dense(10, activation = 'softmax' )\n",
        "    \n",
        "])\n",
        "\n",
        "\n",
        "model.compile(  optimizer = 'adam',\n",
        "                loss = 'sparse_categorical_crossentropy',\n",
        "                metrics = ['accuracy']\n",
        "  )\n",
        "\n",
        "model.fit(training_images, training_labels, epochs = 15, callbacks= [ Stop_Training() ] )\n",
        "\n",
        "loss , accuracy =  model.evaluate(test_images, test_labels)\n",
        "\n",
        "print(\" Accuracy = \", round(100*accuracy,2), \" %\")\n"
      ],
      "execution_count": 10,
      "outputs": [
        {
          "output_type": "stream",
          "text": [
            "Epoch 1/15\n",
            "60000/60000 [==============================] - 70s 1ms/sample - loss: 0.1405 - acc: 0.9573\n",
            "Epoch 2/15\n",
            "60000/60000 [==============================] - 71s 1ms/sample - loss: 0.0461 - acc: 0.9855\n",
            "Epoch 3/15\n",
            "60000/60000 [==============================] - 67s 1ms/sample - loss: 0.0284 - acc: 0.9910\n",
            "Epoch 4/15\n",
            "60000/60000 [==============================] - 68s 1ms/sample - loss: 0.0172 - acc: 0.9949\n",
            "Epoch 5/15\n",
            "60000/60000 [==============================] - 64s 1ms/sample - loss: 0.0117 - acc: 0.9960\n",
            "Epoch 6/15\n",
            "60000/60000 [==============================] - 65s 1ms/sample - loss: 0.0088 - acc: 0.9973\n",
            "Epoch 7/15\n",
            "59968/60000 [============================>.] - ETA: 0s - loss: 0.0057 - acc: 0.9982 \n",
            " Satisfiying Accuracy (99.8%) will stop The Training :) \n",
            "\n",
            "60000/60000 [==============================] - 71s 1ms/sample - loss: 0.0057 - acc: 0.9983\n",
            "10000/10000 [==============================] - 3s 265us/sample - loss: 0.0540 - acc: 0.9876\n",
            " Accuracy =  98.76  %\n"
          ],
          "name": "stdout"
        }
      ]
    }
  ]
}
