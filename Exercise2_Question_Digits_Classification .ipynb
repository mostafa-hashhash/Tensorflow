{
  "nbformat": 4,
  "nbformat_minor": 0,
  "metadata": {
    "colab": {
      "name": "Exercise2-Question.ipynb",
      "version": "0.3.2",
      "provenance": [],
      "collapsed_sections": []
    },
    "kernelspec": {
      "name": "python3",
      "display_name": "Python 3"
    }
  },
  "cells": [
    {
      "metadata": {
        "id": "tOoyQ70H00_s",
        "colab_type": "text"
      },
      "cell_type": "markdown",
      "source": [
        "## Exercise 2\n",
        "In the course you learned how to do classificaiton using Fashion MNIST, a data set containing items of clothing. There's another, similar dataset called MNIST which has items of handwriting -- the digits 0 through 9.\n",
        "\n",
        "Write an MNIST classifier that trains to 99% accuracy or above, and does it without a fixed number of epochs -- i.e. you should stop training once you reach that level of accuracy.\n",
        "\n",
        "Some notes:\n",
        "1. It should succeed in less than 10 epochs, so it is okay to change epochs to 10, but nothing larger\n",
        "2. When it reaches 99% or greater it should print out the string \"Reached 99% accuracy so cancelling training!\"\n",
        "3. If you add any additional variables, make sure you use the same names as the ones used in the class\n",
        "\n",
        "I've started the code for you below -- how would you finish it? "
      ]
    },
    {
      "metadata": {
        "id": "9rvXQGAA0ssC",
        "colab_type": "code",
        "colab": {
          "base_uri": "https://localhost:8080/",
          "height": 272
        },
        "outputId": "8a7d792f-7acb-463d-e6ec-4737d07ce36c"
      },
      "cell_type": "code",
      "source": [
        "import tensorflow as tf\n",
        "from tensorflow import keras\n",
        "\n",
        "\n",
        "class calling_back(tf.keras.callbacks.Callback):\n",
        "  \n",
        "  def on_epoch_end(self, epoch, logs={}):\n",
        "    \n",
        "    if logs.get('acc') >= 0.99 :\n",
        "      print(\"\\n Satisfying Accuracy (99%) will Cancel The Other Epoches\")\n",
        "      self.model.stop_training = True\n",
        "\n",
        "\n",
        "mnist = keras.datasets.mnist\n",
        "\n",
        "(x_train, y_train),(x_test, y_test) = mnist.load_data()\n",
        "\n",
        "\n",
        "# for the ( X_DATA ) which are our images, we are flatening the images \n",
        "# To Feed it to the network because they are Matrices( 2D Vectors )\n",
        "############################################################################\n",
        "# but for ( Y_DATA ) which are our labels, we DON't Flatten them because \n",
        "# they are a linear vector for every row of images \n",
        "\n",
        "x_train , x_test = x_train/255 , x_test/255 \n",
        "\n",
        "\n",
        "model = keras.models.Sequential([\n",
        "    keras.layers.Flatten(),\n",
        "    keras.layers.Dense( 1024 , activation = tf.nn.relu ),\n",
        "    keras.layers.Dense(10, activation = tf.nn.softmax ),\n",
        "    \n",
        "])\n",
        "\n",
        "model.compile(optimizer='adam',\n",
        "              loss='sparse_categorical_crossentropy',\n",
        "              metrics=['accuracy'])\n",
        "\n",
        "model.fit(x_train, y_train, epochs=15, callbacks= [calling_back()] )\n",
        "\n",
        "\n",
        "[ loss , acc ] = model.evaluate(x_test, y_test)\n",
        "print(\"Accuracy is : \" , round((100*acc),2) )"
      ],
      "execution_count": 11,
      "outputs": [
        {
          "output_type": "stream",
          "text": [
            "Epoch 1/15\n",
            "60000/60000 [==============================] - 33s 555us/sample - loss: 0.1854 - acc: 0.9440\n",
            "Epoch 2/15\n",
            "60000/60000 [==============================] - 33s 556us/sample - loss: 0.0750 - acc: 0.9769\n",
            "Epoch 3/15\n",
            "60000/60000 [==============================] - 33s 557us/sample - loss: 0.0496 - acc: 0.9839\n",
            "Epoch 4/15\n",
            "60000/60000 [==============================] - 32s 540us/sample - loss: 0.0338 - acc: 0.9890\n",
            "Epoch 5/15\n",
            "59968/60000 [============================>.] - ETA: 0s - loss: 0.0278 - acc: 0.9911\n",
            " Satisfying Accuracy (99%) will Cancel The Other Epoches\n",
            "60000/60000 [==============================] - 32s 532us/sample - loss: 0.0278 - acc: 0.9911\n",
            "10000/10000 [==============================] - 1s 107us/sample - loss: 0.0840 - acc: 0.9781\n",
            "Accuracy is :  97.81\n"
          ],
          "name": "stdout"
        }
      ]
    }
  ]
}