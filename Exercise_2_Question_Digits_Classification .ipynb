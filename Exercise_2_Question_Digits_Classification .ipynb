{
  "nbformat": 4,
  "nbformat_minor": 0,
  "metadata": {
    "colab": {
      "name": "Exercise2-Question.ipynb",
      "version": "0.3.2",
      "provenance": [],
      "private_outputs": true,
      "collapsed_sections": []
    },
    "kernelspec": {
      "name": "python3",
      "display_name": "Python 3"
    }
  },
  "cells": [
    {
      "metadata": {
        "id": "tOoyQ70H00_s",
        "colab_type": "text"
      },
      "cell_type": "markdown",
      "source": [
        "## Exercise 2\n",
        "In the course you learned how to do classificaiton using Fashion MNIST, a data set containing items of clothing. There's another, similar dataset called MNIST which has items of handwriting -- the digits 0 through 9.\n",
        "\n",
        "Write an MNIST classifier that trains to 99% accuracy or above, and does it without a fixed number of epochs -- i.e. you should stop training once you reach that level of accuracy.\n",
        "\n",
        "Some notes:\n",
        "1. It should succeed in less than 10 epochs, so it is okay to change epochs to 10, but nothing larger\n",
        "2. When it reaches 99% or greater it should print out the string \"Reached 99% accuracy so cancelling training!\"\n",
        "3. If you add any additional variables, make sure you use the same names as the ones used in the class\n",
        "\n",
        "I've started the code for you below -- how would you finish it? "
      ]
    },
    {
      "metadata": {
        "id": "9rvXQGAA0ssC",
        "colab_type": "code",
        "colab": {
          "base_uri": "https://localhost:8080/",
          "height": 308
        },
        "outputId": "d33279e5-825f-4456-cf4e-8e587c727f72"
      },
      "cell_type": "code",
      "source": [
        "import tensorflow as tf\n",
        "from tensorflow import keras\n",
        "\n",
        "\n",
        "class calling_back(tf.keras.callbacks.Callback):\n",
        "  \n",
        "  def on_epoch_end(self, epoch, logs={}):\n",
        "    \n",
        "    if logs.get('acc') >= 0.99 :\n",
        "      print(\"\\n Satisfying Accuracy (99%) will Cancel The Other Epoches\")\n",
        "      self.model.stop_training = True\n",
        "\n",
        "\n",
        "mnist = keras.datasets.mnist\n",
        "\n",
        "(x_train, y_train),(x_test, y_test) = mnist.load_data()\n",
        "\n",
        "\n",
        "# for the ( X_DATA ) which are our images, we are flatening the images \n",
        "# To Feed it to the network because they are Matrices( 2D Vectors )\n",
        "############################################################################\n",
        "# but for ( Y_DATA ) which are our labels, we DON't Flatten them because \n",
        "# they are a linear vector for every row of images \n",
        "\n",
        "x_train , x_test = x_train/255 , x_test/255 \n",
        "\n",
        "\n",
        "model = keras.models.Sequential([\n",
        "    keras.layers.Flatten(),\n",
        "    keras.layers.Dense( 256 , activation = tf.nn.relu ),\n",
        "    keras.layers.Dense(10, activation = tf.nn.softmax ),\n",
        "    \n",
        "])\n",
        "\n",
        "model.compile(optimizer='adam',\n",
        "              loss='sparse_categorical_crossentropy',\n",
        "              metrics=['accuracy'])\n",
        "\n",
        "model.fit(x_train, y_train, epochs=10, callbacks= [calling_back()] )\n",
        "\n",
        "\n",
        "[ loss , acc ] = model.evaluate(x_test, y_test)\n",
        "print(\"Accuracy is : \" , round((100*acc),2) )"
      ],
      "execution_count": 15,
      "outputs": [
        {
          "output_type": "stream",
          "text": [
            "Epoch 1/10\n",
            "60000/60000 [==============================] - 12s 193us/sample - loss: 0.2269 - acc: 0.9342\n",
            "Epoch 2/10\n",
            "60000/60000 [==============================] - 12s 193us/sample - loss: 0.0930 - acc: 0.9715\n",
            "Epoch 3/10\n",
            "60000/60000 [==============================] - 12s 194us/sample - loss: 0.0600 - acc: 0.9819\n",
            "Epoch 4/10\n",
            "60000/60000 [==============================] - 12s 196us/sample - loss: 0.0451 - acc: 0.9863\n",
            "Epoch 5/10\n",
            "60000/60000 [==============================] - 12s 192us/sample - loss: 0.0327 - acc: 0.9897\n",
            "Epoch 6/10\n",
            "59872/60000 [============================>.] - ETA: 0s - loss: 0.0251 - acc: 0.9920\n",
            " Satisfying Accuracy (99%) will Cancel The Other Epoches\n",
            "60000/60000 [==============================] - 12s 193us/sample - loss: 0.0252 - acc: 0.9919\n",
            "10000/10000 [==============================] - 1s 70us/sample - loss: 0.0679 - acc: 0.9801\n",
            "Accuracy is :  98.01\n"
          ],
          "name": "stdout"
        }
      ]
    }
  ]
}